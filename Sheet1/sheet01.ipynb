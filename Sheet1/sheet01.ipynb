{
 "cells": [
  {
   "cell_type": "markdown",
   "id": "6a004d60",
   "metadata": {
    "deletable": false,
    "editable": false,
    "nbgrader": {
     "cell_type": "markdown",
     "checksum": "794f500305e29f63fe8030edd63804f0",
     "grade": false,
     "grade_id": "h01",
     "locked": true,
     "schema_version": 3,
     "solution": false
    }
   },
   "source": [
    "# Exercise Sheet 01: Python Recap"
   ]
  },
  {
   "cell_type": "markdown",
   "id": "7d061734",
   "metadata": {},
   "source": [
    "## Introduction\n",
    "\n",
    "This is the first exercise sheet. It is intended to help making yourself familiar with the tools we will use in the lecture. If you can read this text, you have already managed the first step: Starting the jupyter notebook server and opening a notebook in your browser.\n",
    "\n",
    "All exercise sheets will use [Jupyter Notebooks](http://jupyter-notebook.readthedocs.org/en/latest/notebook.html). To be able to run these on your system, you will need to install Python and a few packages. We suggest a current version of Python 3 and installing the conda environment as explained in the file `scipy-setup.txt` (found on Stud.IP in the \"Documents\" section in the Folder [`Resources`](https://studip.uni-osnabrueck.de/dispatch.php/course/files/index/04ef21ab27b353743aa70a69ca04d035?cid=64105ba596df4fcc36ec266431aac621).\n",
    "\n",
    "You can solve this sheet alone or if you formed already a group in that group. Once done, upload your solution to your group's folder (under [`Groups`](https://studip.uni-osnabrueck.de/dispatch.php/course/files/index/6e9e531b6e84cadd07ac27fd03fb8493?cid=64105ba596df4fcc36ec266431aac621)).  Please do so before **October 21st, 2025**.  You should be able to explain your solution to your tutor in the feedback meeting.  You should solve at least 50% of the exercises on each sheet, to participate in the project work of this course, which will start after the new year break.\n",
    "\n",
    "In case you cannot do this first sheet (due to technical or organizational problems) please prepare a description of your problem instead. You may post any problems in the forum and ask your fellow students for help. In case no solution shows up, we can discuss it the next session or your tutor may help you in the first feedback session."
   ]
  },
  {
   "cell_type": "markdown",
   "id": "c37e68d3",
   "metadata": {
    "deletable": false,
    "editable": false,
    "nbgrader": {
     "cell_type": "markdown",
     "checksum": "b2ffbc08f7048a53bf87d171d7089d8a",
     "grade": false,
     "grade_id": "cell-4ead63f1f208ce33",
     "locked": true,
     "schema_version": 3,
     "solution": false,
     "task": false
    },
    "slideshow": {
     "slide_type": ""
    },
    "tags": []
   },
   "source": [
    "## Goal of this Sheet\n",
    "\n",
    "In this sheet you shall practice some basic python programming."
   ]
  },
  {
   "cell_type": "markdown",
   "id": "e34795ed-380d-4ca3-9cb8-919ff3cfc245",
   "metadata": {
    "deletable": false,
    "editable": false,
    "nbgrader": {
     "cell_type": "markdown",
     "checksum": "7bfd09cb34f414f7c8655252ddf6f4b7",
     "grade": false,
     "grade_id": "cell-6ccd6157d3b556ac",
     "locked": true,
     "schema_version": 3,
     "solution": false,
     "task": false
    },
    "slideshow": {
     "slide_type": ""
    },
    "tags": []
   },
   "source": [
    "## Exercise 1: Cleaning and summarizing reaction times\n",
    "\n",
    "Context: Reaction time (RT) data often include missing values and outliers (e.g., anticipations under ~150 ms or lapses over ~2000 ms). You will clean a small RT dataset and compute descriptive statistics.\n",
    "\n",
    "Tasks:\n",
    "- Clean the dataset by removing missing values and obvious outliers.\n",
    "- Compute mean, median, and a 10% trimmed mean without external packages (you may use the statistics module).\n",
    "- Convert RTs to seconds and print a short summary string.\n",
    "\n",
    "Setup: Synthetic RT data in milliseconds, including missing values and outliers."
   ]
  },
  {
   "cell_type": "code",
   "execution_count": 4,
   "id": "4dc1e5f9-1004-4f50-a4ad-aea1f9d311c4",
   "metadata": {},
   "outputs": [],
   "source": [
    "# Exercise 1: Setup\n",
    "reaction_times_ms = [512, 480, 503, 750, None, 145, 2100, 590, 430, 'error', 680, 510, 155, 1995]\n",
    "min_plausible = 150   # ms (anticipations below this are implausible)\n",
    "max_plausible = 2000  # ms (extreme lapses above this are implausible)"
   ]
  },
  {
   "cell_type": "markdown",
   "id": "64879e6b-a19c-433a-969f-2d2983b4fcea",
   "metadata": {
    "deletable": false,
    "editable": false,
    "nbgrader": {
     "cell_type": "markdown",
     "checksum": "1180fc7771156b39155bf1ff63daef9c",
     "grade": false,
     "grade_id": "cell-5227f080e624fe38",
     "locked": true,
     "schema_version": 3,
     "solution": false,
     "task": false
    }
   },
   "source": [
    "### (a) Clean RTs: keep only numeric (int/float), non-missing values within [min_plausible, max_plausible]."
   ]
  },
  {
   "cell_type": "code",
   "execution_count": 5,
   "id": "820f86da-84d5-46f6-abee-9780a89ab361",
   "metadata": {
    "deletable": false,
    "nbgrader": {
     "cell_type": "code",
     "checksum": "949870a5f372718a86218d4f215d464b",
     "grade": true,
     "grade_id": "cell-8d61acbe5f58d649",
     "locked": false,
     "points": 0,
     "schema_version": 3,
     "solution": true,
     "task": false
    }
   },
   "outputs": [],
   "source": [
    "# - Create a new list clean_rts_ms that contains numeric RTs in the plausible range.\n",
    "# - Treat None and non-numeric entries as missing.\n",
    "# - Do not modify reaction_times_ms in place.\n",
    "# YOUR CODE HERE\n",
    "\n",
    "clean_rts_ms = []  # define new list\n",
    "for rt in reaction_times_ms:\n",
    "    if (type(rt) == int or type(rt) == float) and min_plausible < rt < max_plausible:  # two conditions: keep only numeric, non-missing values within plausible range\n",
    "        clean_rts_ms.append(rt)  # append valid rts to the new list"
   ]
  },
  {
   "cell_type": "code",
   "execution_count": null,
   "id": "1f122118-212a-4b14-97d9-28d21afbdf5f",
   "metadata": {},
   "outputs": [],
   "source": [
    "# checking the cleaned list\n",
    "print(clean_rts_ms)  "
   ]
  },
  {
   "cell_type": "markdown",
   "id": "fc623e9e-990b-40dc-969a-2e7276f4e0d7",
   "metadata": {
    "deletable": false,
    "editable": false,
    "nbgrader": {
     "cell_type": "markdown",
     "checksum": "5d2e9a4460cc53d95796581d86791f81",
     "grade": false,
     "grade_id": "cell-f2d7d2768e5de340",
     "locked": true,
     "schema_version": 3,
     "solution": false,
     "task": false
    }
   },
   "source": [
    "### (b) Compute mean, median, and a 10% trimmed mean (drop the lowest 10% and highest 10% after sorting)."
   ]
  },
  {
   "cell_type": "code",
   "execution_count": 7,
   "id": "ad97905e-342c-449e-ae23-da01b054ce82",
   "metadata": {
    "deletable": false,
    "nbgrader": {
     "cell_type": "code",
     "checksum": "60736443b716f9235de7fe48f78d977f",
     "grade": true,
     "grade_id": "cell-4043f0468f101c03",
     "locked": false,
     "points": 0,
     "schema_version": 3,
     "solution": true,
     "task": false
    }
   },
   "outputs": [],
   "source": [
    "# Hints:\n",
    "# - statistics.mean and statistics.median are allowed.\n",
    "# - For trimmed mean, compute k = floor(0.1 * n), then drop k from each end.\n",
    "# YOUR CODE HERE\n",
    "\n",
    "import statistics as stats  # import statistics package\n",
    "mean_rts_ms = stats.mean(clean_rts_ms)  # compute mean\n",
    "median_rts_ms = stats.median(clean_rts_ms)  # compute median\n",
    "\n",
    "sorted_rts_ms = sorted(clean_rts_ms)  # sort reaction times for trimming\n",
    "rts_ms_len = len(clean_rts_ms)  # number of reaction times\n",
    "k_ms = 0.1 * rts_ms_len  # calculate how much 10% is in absolute numbers for this list\n",
    "k_ms = int(k_ms)  # turn the result into an integer for the next step\n",
    "trimmed_mean_rts_ms = stats.mean(clean_rts_ms[k_ms:-k_ms])  # drop the lowest 10% and highest 10% of the mean"
   ]
  },
  {
   "cell_type": "code",
   "execution_count": 8,
   "id": "8eeae8c8-7be6-4193-8d1f-cedb68b0a896",
   "metadata": {},
   "outputs": [
    {
     "name": "stdout",
     "output_type": "stream",
     "text": [
      "660.5\n",
      "511.0\n",
      "512.25\n"
     ]
    }
   ],
   "source": [
    "# show computed values\n",
    "print(mean_rts_ms)\n",
    "print(median_rts_ms)\n",
    "print(trimmed_mean_rts_ms)"
   ]
  },
  {
   "cell_type": "markdown",
   "id": "30422dc3-4de2-4cdb-91b6-700a7c380b27",
   "metadata": {
    "deletable": false,
    "editable": false,
    "nbgrader": {
     "cell_type": "markdown",
     "checksum": "0aa4ae44a6c148a9c2f3901cb1f8deb3",
     "grade": false,
     "grade_id": "cell-764c8f918f8c171f",
     "locked": true,
     "schema_version": 3,
     "solution": false,
     "task": false
    }
   },
   "source": [
    "## (c) Convert RTs to seconds and print a summary string with rounded values."
   ]
  },
  {
   "cell_type": "code",
   "execution_count": 40,
   "id": "f5cc2ec6-1554-4b2b-ab75-8d9ef09baa47",
   "metadata": {
    "deletable": false,
    "editable": true,
    "nbgrader": {
     "cell_type": "code",
     "checksum": "0dd9040b8dd16679f536498e00c0789c",
     "grade": true,
     "grade_id": "cell-f6f65506df4257f4",
     "locked": false,
     "points": 0,
     "schema_version": 3,
     "solution": true,
     "task": false
    },
    "slideshow": {
     "slide_type": ""
    },
    "tags": []
   },
   "outputs": [
    {
     "name": "stdout",
     "output_type": "stream",
     "text": [
      "Cleaned N=10; mean=0.66 s; median=0.511 s; trimmed mean 0.557 s\n"
     ]
    }
   ],
   "source": [
    "# - Create clean_rts_s (seconds).\n",
    "# - Print: \"Cleaned N={...}; mean={...} s; median={...} s; trimmed mean={...} s\"\n",
    "# YOUR CODE HERE\n",
    "\n",
    "clean_rts_s = []\n",
    "for rt in clean_rts_ms: \n",
    "    clean_rts_s.append(rt/1000)\n",
    "\n",
    "mean_rts_s = stats.mean(clean_rts_s)  # compute mean\n",
    "median_rts_s = stats.median(clean_rts_s)  # compute median\n",
    "\n",
    "sorted_rts_s = sorted(clean_rts_s)  # sort reaction times for trimming\n",
    "rts_s_len = len(clean_rts_s)  # number of reaction times\n",
    "k_s = 0.1 * rts_s_len  # calculate how much 10% is in absolute numbers for this list\n",
    "k_s = int(k_s)  # turn the result into an integer for the next step\n",
    "trimmed_mean_rts_s = stats.mean(sorted_rts_s[k:-k])  # drop the lowest 10% and highest 10% of the mean\n",
    "\n",
    "# Print summary string with rounded values (3 decimals)\n",
    "print(f\"Cleaned N={round(rts_s_len, 3)}; mean={round(mean_rts_s, 3)} s; median={round(median_rts_s, 3)} s; trimmed mean {round(trimmed_mean_rts_s, 3)} s\")"
   ]
  },
  {
   "cell_type": "markdown",
   "id": "b8f370f8-5806-410b-b4e8-fd47af56ab70",
   "metadata": {
    "deletable": false,
    "editable": false,
    "nbgrader": {
     "cell_type": "markdown",
     "checksum": "73dd91a3a319c4a8662daae0e4d11050",
     "grade": false,
     "grade_id": "cell-d99836405f9862d0",
     "locked": true,
     "schema_version": 3,
     "solution": false,
     "task": false
    },
    "slideshow": {
     "slide_type": ""
    },
    "tags": []
   },
   "source": [
    "## Exercise 2: Functions, docstrings, and basic tests\n",
    "\n",
    "Context: Write reusable functions to clean RTs and compute a trimmed mean. Add docstrings and simple asserts.\n",
    "\n",
    "Tasks:\n",
    "- Implement clean_rts and trimmed_mean functions with type hints and docstrings.\n",
    "- Use optional parameters (min_ms, max_ms, proportion_to_cut).\n",
    "- Add basic tests with assert statements."
   ]
  },
  {
   "cell_type": "markdown",
   "id": "f892a62c-167d-48d7-81ef-fb7c6259db8d",
   "metadata": {
    "deletable": false,
    "editable": false,
    "nbgrader": {
     "cell_type": "markdown",
     "checksum": "6c8c3bdcc8d41a5065d6293cc215be5e",
     "grade": false,
     "grade_id": "cell-b977f226b9a70d8b",
     "locked": true,
     "schema_version": 3,
     "solution": false,
     "task": false
    }
   },
   "source": [
    "### (a) Implement `clean_rts`"
   ]
  },
  {
   "cell_type": "code",
   "execution_count": 29,
   "id": "b90f8c8d-f1d6-4e8b-a72e-24bbc5f2b9ae",
   "metadata": {
    "deletable": false,
    "editable": true,
    "nbgrader": {
     "cell_type": "code",
     "checksum": "9e22e777a5b278e4c64350d68475ffe2",
     "grade": true,
     "grade_id": "cell-383b18e861ceefe2",
     "locked": false,
     "points": 0,
     "schema_version": 3,
     "solution": true,
     "task": false
    },
    "slideshow": {
     "slide_type": ""
    },
    "tags": []
   },
   "outputs": [
    {
     "ename": "AssertionError",
     "evalue": "This is a non-numerical value.",
     "output_type": "error",
     "traceback": [
      "\u001b[31m---------------------------------------------------------------------------\u001b[39m",
      "\u001b[31mAssertionError\u001b[39m                            Traceback (most recent call last)",
      "\u001b[36mCell\u001b[39m\u001b[36m \u001b[39m\u001b[32mIn[29]\u001b[39m\u001b[32m, line 20\u001b[39m\n\u001b[32m     17\u001b[39m     \u001b[38;5;28;01mreturn\u001b[39;00m clean_rts\n\u001b[32m     19\u001b[39m reaction_times_ms = [\u001b[32m512\u001b[39m, \u001b[32m480\u001b[39m, \u001b[38;5;28;01mNone\u001b[39;00m, \u001b[32m503\u001b[39m, \u001b[32m750\u001b[39m, \u001b[33m'\u001b[39m\u001b[33merror\u001b[39m\u001b[33m'\u001b[39m, \u001b[32m145\u001b[39m, \u001b[32m2100\u001b[39m, \u001b[32m590\u001b[39m]  \u001b[38;5;66;03m# test data\u001b[39;00m\n\u001b[32m---> \u001b[39m\u001b[32m20\u001b[39m clean_rts_list = \u001b[43mclean_rts\u001b[49m\u001b[43m(\u001b[49m\u001b[43mreaction_times_ms\u001b[49m\u001b[43m)\u001b[49m  \u001b[38;5;66;03m# test the function\u001b[39;00m\n\u001b[32m     21\u001b[39m clean_rts_list\n",
      "\u001b[36mCell\u001b[39m\u001b[36m \u001b[39m\u001b[32mIn[29]\u001b[39m\u001b[32m, line 12\u001b[39m, in \u001b[36mclean_rts\u001b[39m\u001b[34m(rts, min_ms, max_ms)\u001b[39m\n\u001b[32m     10\u001b[39m clean_rts = []\n\u001b[32m     11\u001b[39m \u001b[38;5;28;01mfor\u001b[39;00m rt \u001b[38;5;129;01min\u001b[39;00m rts:\n\u001b[32m---> \u001b[39m\u001b[32m12\u001b[39m     \u001b[38;5;28;01massert\u001b[39;00m (\u001b[38;5;28mtype\u001b[39m(rt) == \u001b[38;5;28mfloat\u001b[39m) \u001b[38;5;129;01mor\u001b[39;00m (\u001b[38;5;28mtype\u001b[39m(rt) == \u001b[38;5;28mint\u001b[39m), \u001b[33m\"\u001b[39m\u001b[33mThis is a non-numerical value.\u001b[39m\u001b[33m\"\u001b[39m\n\u001b[32m     13\u001b[39m     \u001b[38;5;28;01massert\u001b[39;00m rt > min_ms \u001b[38;5;129;01mand\u001b[39;00m rt < max_ms, \u001b[33m\"\u001b[39m\u001b[33mThis value lies outside the plausible range.\u001b[39m\u001b[33m\"\u001b[39m\n\u001b[32m     15\u001b[39m     \u001b[38;5;28;01mif\u001b[39;00m (\u001b[38;5;28mtype\u001b[39m(rt) == \u001b[38;5;28mint\u001b[39m \u001b[38;5;129;01mor\u001b[39;00m \u001b[38;5;28mtype\u001b[39m(rt) == \u001b[38;5;28mfloat\u001b[39m) \u001b[38;5;129;01mand\u001b[39;00m min_ms < rt < max_ms:  \u001b[38;5;66;03m# keep only numeric, non-missing values within specified range\u001b[39;00m\n",
      "\u001b[31mAssertionError\u001b[39m: This is a non-numerical value."
     ]
    }
   ],
   "source": [
    "# - Implement clean_rts(rts, min_ms=150, max_ms=2000) -> List[float]\n",
    "# - Include docstrings and type hints.\n",
    "# - Add asserts that check behavior on edge cases.\n",
    "# YOUR CODE HERE\n",
    "\n",
    "def clean_rts(rts: list[float], min_ms=150, max_ms=2000) -> list[float]:\n",
    "    \"\"\"\n",
    "    Cleans a list of reaction times (ms) so that only numerical, non-missing values between 150 and 2000 ms are included.\n",
    "    \"\"\"\n",
    "    clean_rts = []\n",
    "    for rt in rts:\n",
    "        assert (type(rt) == float) or (type(rt) == int), \"This is a non-numerical value.\"\n",
    "        assert rt > min_ms and rt < max_ms, \"This value lies outside the plausible range.\"\n",
    "        \n",
    "        if (type(rt) == int or type(rt) == float) and min_ms < rt < max_ms:  # keep only numeric, non-missing values within specified range\n",
    "            clean_rts.append(rt)  # append valid rts to the new list\n",
    "    return clean_rts\n",
    "\n",
    "reaction_times_ms = [512, 480, None, 503, 750, 'error', 145, 2100, 590]  # test data\n",
    "clean_rts_list = clean_rts(reaction_times_ms)  # test the function\n",
    "clean_rts_list"
   ]
  },
  {
   "cell_type": "markdown",
   "id": "968f0129-8c68-41df-8588-06727169a5a7",
   "metadata": {
    "deletable": false,
    "editable": false,
    "nbgrader": {
     "cell_type": "markdown",
     "checksum": "6e9344f15cf17428eba59c649fd03d71",
     "grade": false,
     "grade_id": "cell-95c7f97612677d38",
     "locked": true,
     "schema_version": 3,
     "solution": false,
     "task": false
    },
    "slideshow": {
     "slide_type": ""
    },
    "tags": []
   },
   "source": [
    "### (b) Implement `trimmed_mean`"
   ]
  },
  {
   "cell_type": "code",
   "execution_count": 45,
   "id": "5831b720-f928-43b1-b658-a3e914414ed7",
   "metadata": {
    "deletable": false,
    "nbgrader": {
     "cell_type": "code",
     "checksum": "4122134d6f6da913a1eaadbb8022bb0f",
     "grade": true,
     "grade_id": "cell-c61f5ca5d9be49f0",
     "locked": false,
     "points": 0,
     "schema_version": 3,
     "solution": true,
     "task": false
    }
   },
   "outputs": [
    {
     "data": {
      "text/plain": [
       "6.5625"
      ]
     },
     "execution_count": 45,
     "metadata": {},
     "output_type": "execute_result"
    }
   ],
   "source": [
    "# - Implement trimmed_mean(rts, proportion_to_cut=0.1) -> float\n",
    "# - Include docstrings and type hints.\n",
    "# - Add asserts that check behavior on edge cases.\n",
    "# YOUR CODE HERE\n",
    "import statistics as stats  # import statistics package\n",
    "def trimmed_mean(rts: list[float], proportion_to_cut=0.1) -> float:\n",
    "    \"\"\"\n",
    "    Computes the 10% trimmed mean of a list of reaction times (top and bottom 10% are dropped after sorting). \n",
    "    Note that the 10% trimmed mean only works perfectly when the number of values in the list are a (whole) multiple of 10.\n",
    "    This function assumes a cleaned list. If not cleaned, apply clean_rts or a similar function first.\n",
    "    \"\"\"\n",
    "    assert len(rts) > 9, \"The list must contain at least 10 elements.\"\n",
    "    for rt in rts:\n",
    "        assert (type(rt) == float) or (type(rt) == int), \"This is a non-numerical value.\"\n",
    "\n",
    "    sorted_rts = sorted(rts)  # sort reaction times for trimming\n",
    "    rts_len = len(rts)  # number of reaction times\n",
    "    k = proportion_to_cut * rts_len  # calculate how much 10% is in absolute numbers for this list\n",
    "    k = int(k)  # turn the result into an integer for the next step\n",
    "    trimmed_mean_rts = stats.mean(sorted_rts[k:-k])  # drop the lowest 10% and highest 10% of the mean | question: can we leave the stats.mean here or do we need to implement it manually?\n",
    "    \n",
    "    return trimmed_mean_rts\n",
    "\n",
    "trimmed_mean([2.0, 3.5, 4.0, 5.0, 6.0, 7.0, 8.0, 9.0, 10.0, 11.0])  # test the function"
   ]
  },
  {
   "cell_type": "markdown",
   "id": "60352e44-bd4d-4e50-8a8b-e616e969a2f6",
   "metadata": {
    "deletable": false,
    "editable": false,
    "nbgrader": {
     "cell_type": "markdown",
     "checksum": "9af5d22488358d86942868521a8ffae7",
     "grade": false,
     "grade_id": "cell-ccb254f209955242",
     "locked": true,
     "schema_version": 3,
     "solution": false,
     "task": false
    },
    "slideshow": {
     "slide_type": ""
    },
    "tags": []
   },
   "source": [
    "## Exercise 3: Stroop task: congruent vs. incongruent trials\n",
    "\n",
    "Context: In the Stroop task, people name the ink color of color words. Congruent trials have matching word and ink color; incongruent trials do not. We will compute accuracy and RT summaries by condition and build a small confusion matrix of responses.\n",
    "\n",
    "Tasks:\n",
    "- Mark each trial as correct if response equals ink_color.\n",
    "- Split trials into congruent vs. incongruent and compute accuracy and mean RT for each.\n",
    "- Build a confusion matrix: counts of response by true ink_color.\n",
    "- Use a list comprehension to get incongruent RTs faster than 600 ms."
   ]
  },
  {
   "cell_type": "code",
   "execution_count": 4,
   "id": "19639cc4-295e-4a9b-9c92-b836cff0c949",
   "metadata": {},
   "outputs": [],
   "source": [
    "# Exercise 2: Setup\n",
    "trials = [\n",
    "    {'stimulus_word':'RED',   'ink_color':'RED',   'response':'RED',   'rt_ms':512},\n",
    "    {'stimulus_word':'RED',   'ink_color':'GREEN', 'response':'GREEN', 'rt_ms':650},\n",
    "    {'stimulus_word':'BLUE',  'ink_color':'BLUE',  'response':'BLUE',  'rt_ms':490},\n",
    "    {'stimulus_word':'GREEN', 'ink_color':'RED',   'response':'RED',   'rt_ms':700},\n",
    "    {'stimulus_word':'BLUE',  'ink_color':'GREEN', 'response':'BLUE',  'rt_ms':610},\n",
    "    {'stimulus_word':'GREEN', 'ink_color':'GREEN', 'response':'GREEN', 'rt_ms':530},\n",
    "    {'stimulus_word':'RED',   'ink_color':'BLUE',  'response':'RED',   'rt_ms':720},\n",
    "    {'stimulus_word':'BLUE',  'ink_color':'RED',   'response':'BLUE',  'rt_ms':605},\n",
    "]"
   ]
  },
  {
   "cell_type": "markdown",
   "id": "1402d621-0373-4e3b-b2f1-a14e4160e85b",
   "metadata": {
    "deletable": false,
    "editable": false,
    "nbgrader": {
     "cell_type": "markdown",
     "checksum": "6bc3b2c6f09370d449024a91217e57e0",
     "grade": false,
     "grade_id": "cell-d9ed0500effc4515",
     "locked": true,
     "schema_version": 3,
     "solution": false,
     "task": false
    }
   },
   "source": [
    "### (a) Add a 'correct' boolean to each trial and a 'congruency' label ('congruent' or 'incongruent')."
   ]
  },
  {
   "cell_type": "code",
   "execution_count": 14,
   "id": "ae2f89c2-1038-41ce-9536-49818076997f",
   "metadata": {
    "deletable": false,
    "nbgrader": {
     "cell_type": "code",
     "checksum": "19dec7c3b3b2cc9cfdce2224cd178e6b",
     "grade": true,
     "grade_id": "cell-6e5bb42767adf782",
     "locked": false,
     "points": 0,
     "schema_version": 3,
     "solution": true,
     "task": false
    }
   },
   "outputs": [
    {
     "name": "stdout",
     "output_type": "stream",
     "text": [
      "{'stimulus_word': 'RED', 'ink_color': 'RED', 'response': 'RED', 'rt_ms': 512, 'correct': 'TRUE', 'congruency': 'TRUE'}\n",
      "{'stimulus_word': 'RED', 'ink_color': 'GREEN', 'response': 'GREEN', 'rt_ms': 650, 'correct': 'TRUE', 'congruency': 'FALSE'}\n",
      "{'stimulus_word': 'BLUE', 'ink_color': 'BLUE', 'response': 'BLUE', 'rt_ms': 490, 'correct': 'TRUE', 'congruency': 'TRUE'}\n",
      "{'stimulus_word': 'GREEN', 'ink_color': 'RED', 'response': 'RED', 'rt_ms': 700, 'correct': 'TRUE', 'congruency': 'FALSE'}\n",
      "{'stimulus_word': 'BLUE', 'ink_color': 'GREEN', 'response': 'BLUE', 'rt_ms': 610, 'correct': 'FALSE', 'congruency': 'FALSE'}\n",
      "{'stimulus_word': 'GREEN', 'ink_color': 'GREEN', 'response': 'GREEN', 'rt_ms': 530, 'correct': 'TRUE', 'congruency': 'TRUE'}\n",
      "{'stimulus_word': 'RED', 'ink_color': 'BLUE', 'response': 'RED', 'rt_ms': 720, 'correct': 'FALSE', 'congruency': 'FALSE'}\n",
      "{'stimulus_word': 'BLUE', 'ink_color': 'RED', 'response': 'BLUE', 'rt_ms': 605, 'correct': 'FALSE', 'congruency': 'FALSE'}\n"
     ]
    }
   ],
   "source": [
    "# - Iterate through trials and add 'correct' and 'congruency' fields.\n",
    "# YOUR CODE HERE\n",
    "\n",
    "for trial in trials:\n",
    "    if trial['ink_color'] == trial ['response']:  # compare response and ink color\n",
    "        trial['correct'] = 'TRUE'  # the response was correct if they match\n",
    "    else:\n",
    "        trial['correct'] = 'FALSE'  # incorrect if not\n",
    "\n",
    "    if trial['ink_color'] == trial ['stimulus_word']:  # compare ink color and the stimulus color word\n",
    "        trial['congruency'] = 'TRUE'  # the trial was correct if ink color matches the signified color\n",
    "    else:\n",
    "        trial['congruency'] = 'FALSE'  # incorrect if not\n",
    "\n",
    "    print(trial)  # print each trial in its own line, test code\n",
    "    "
   ]
  },
  {
   "cell_type": "markdown",
   "id": "eade82c8-9d4f-43c6-8c77-d0e7a85e0256",
   "metadata": {
    "deletable": false,
    "editable": false,
    "nbgrader": {
     "cell_type": "markdown",
     "checksum": "1384f09c3b0219a947e76b5512c2ade7",
     "grade": false,
     "grade_id": "cell-ce55fc0ab774ce82",
     "locked": true,
     "schema_version": 3,
     "solution": false,
     "task": false
    },
    "slideshow": {
     "slide_type": ""
    },
    "tags": []
   },
   "source": [
    "### (b) Compute accuracy and mean RT for congruent vs incongruent trials."
   ]
  },
  {
   "cell_type": "code",
   "execution_count": 12,
   "id": "86991fd4-dfec-43e8-b329-c0f9a42f7ba8",
   "metadata": {
    "deletable": false,
    "editable": true,
    "nbgrader": {
     "cell_type": "code",
     "checksum": "9c0813144db6696e5b38acf67a704dbc",
     "grade": true,
     "grade_id": "cell-0101496c7b2c8a0b",
     "locked": false,
     "points": 0,
     "schema_version": 3,
     "solution": true,
     "task": false
    },
    "slideshow": {
     "slide_type": ""
    },
    "tags": []
   },
   "outputs": [],
   "source": [
    "# - Create two lists: congruent_trials, incongruent_trials.\n",
    "# - Compute accuracy = (# correct) / (total).\n",
    "# - Compute mean RT using statistics.mean.\n",
    "# YOUR CODE HERE\n",
    "\n",
    "# create a list for congruent and incongruent trials each\n",
    "congruent_trials = []\n",
    "incongruent_trials = []\n",
    "\n",
    "# add individual trials to their respective list\n",
    "for trial in trials:\n",
    "    if trial['congruency'] == 'TRUE':\n",
    "        congruent_trials.append(trial)\n",
    "    else:\n",
    "        incongruent_trials.append(trial)\n",
    "\n",
    "# defining counters for correct in/congruent trials\n",
    "n_congruent_correct = 0\n",
    "n_incongruent_correct = 0\n",
    "\n",
    "# determining number of correct in/congruent trials\n",
    "for trial in congruent_trials:\n",
    "    if trial['correct'] == 'TRUE':\n",
    "        n_congruent_correct += 1\n",
    "\n",
    "for trial in incongruent_trials:\n",
    "    if trial['correct'] == 'TRUE':\n",
    "        n_incongruent_correct += 1\n",
    "\n",
    "# computing accuracy in in/congruent condition\n",
    "congruent_accuracy = n_congruent_correct / len(congruent_trials)\n",
    "incongruent_accuracy = n_incongruent_correct / len(incongruent_trials)\n",
    "\n",
    "# computing mean RT in in/congruent condition (there's probably a less cumbersome way to do this)\n",
    "# defining new rt-specific lists first, then iterating through the bigger lists to obtain rts, then using stats.mean\n",
    "rt_congruent = []\n",
    "rt_incongruent = []\n",
    "\n",
    "for trial in congruent_trials:\n",
    "    rt_congruent.append(trial['rt_ms'])\n",
    "\n",
    "for trial in incongruent_trials:\n",
    "    rt_incongruent.append(trial['rt_ms'])\n",
    "                          \n",
    "mean_rt_congruent = stats.mean(rt_congruent)\n",
    "mean_rt_incongruent = stats.mean(rt_incongruent)"
   ]
  },
  {
   "cell_type": "code",
   "execution_count": 13,
   "id": "6c09ac20-0bd2-4772-86eb-37178c291065",
   "metadata": {},
   "outputs": [
    {
     "name": "stdout",
     "output_type": "stream",
     "text": [
      "[{'stimulus_word': 'RED', 'ink_color': 'RED', 'response': 'RED', 'rt_ms': 512, 'correct': 'TRUE', 'congruency': 'TRUE'}, {'stimulus_word': 'BLUE', 'ink_color': 'BLUE', 'response': 'BLUE', 'rt_ms': 490, 'correct': 'TRUE', 'congruency': 'TRUE'}, {'stimulus_word': 'GREEN', 'ink_color': 'GREEN', 'response': 'GREEN', 'rt_ms': 530, 'correct': 'TRUE', 'congruency': 'TRUE'}]\n",
      "[{'stimulus_word': 'RED', 'ink_color': 'GREEN', 'response': 'GREEN', 'rt_ms': 650, 'correct': 'TRUE', 'congruency': 'FALSE'}, {'stimulus_word': 'GREEN', 'ink_color': 'RED', 'response': 'RED', 'rt_ms': 700, 'correct': 'TRUE', 'congruency': 'FALSE'}, {'stimulus_word': 'BLUE', 'ink_color': 'GREEN', 'response': 'BLUE', 'rt_ms': 610, 'correct': 'FALSE', 'congruency': 'FALSE'}, {'stimulus_word': 'RED', 'ink_color': 'BLUE', 'response': 'RED', 'rt_ms': 720, 'correct': 'FALSE', 'congruency': 'FALSE'}, {'stimulus_word': 'BLUE', 'ink_color': 'RED', 'response': 'BLUE', 'rt_ms': 605, 'correct': 'FALSE', 'congruency': 'FALSE'}]\n",
      "3\n",
      "2\n",
      "1.0\n",
      "0.4\n",
      "510.6666666666667\n",
      "657\n"
     ]
    }
   ],
   "source": [
    "# testing the code\n",
    "print(congruent_trials)\n",
    "print(incongruent_trials)\n",
    "\n",
    "print(n_congruent_correct)\n",
    "print(n_incongruent_correct)\n",
    "\n",
    "print(congruent_accuracy)\n",
    "print(incongruent_accuracy)\n",
    "\n",
    "print(mean_rt_congruent)\n",
    "print(mean_rt_incongruent)"
   ]
  },
  {
   "cell_type": "markdown",
   "id": "d5e0b487-9a8b-4a7e-b30f-c6607739a776",
   "metadata": {
    "deletable": false,
    "editable": false,
    "nbgrader": {
     "cell_type": "markdown",
     "checksum": "6ebf0d9f9660759efa8e71d66fadbc82",
     "grade": false,
     "grade_id": "cell-5bd286fd2528276f",
     "locked": true,
     "schema_version": 3,
     "solution": false,
     "task": false
    }
   },
   "source": [
    "### (c) Confusion matrix: for each true ink_color, count how often each response was given."
   ]
  },
  {
   "cell_type": "code",
   "execution_count": 7,
   "id": "a6d6d4a2-c2f7-4522-bf9c-48f0de536c05",
   "metadata": {
    "deletable": false,
    "nbgrader": {
     "cell_type": "code",
     "checksum": "d0e744ef1bba0b843448f77fca8c1375",
     "grade": true,
     "grade_id": "cell-710d32f4932c839a",
     "locked": false,
     "points": 0,
     "schema_version": 3,
     "solution": true,
     "task": false
    }
   },
   "outputs": [
    {
     "data": {
      "text/plain": [
       "{'RED': {'RED': 2, 'GREEN': 0, 'BLUE': 1},\n",
       " 'GREEN': {'RED': 0, 'GREEN': 2, 'BLUE': 1},\n",
       " 'BLUE': {'RED': 1, 'GREEN': 0, 'BLUE': 1}}"
      ]
     },
     "execution_count": 7,
     "metadata": {},
     "output_type": "execute_result"
    }
   ],
   "source": [
    "# - Build a dict-of-dicts: confusion[ink_color][response] = count.\n",
    "# initialize confusion dict with ink colors\n",
    "# YOUR CODE HERE\n",
    "confusion = {\"RED\": {\"RED\": 0, \"GREEN\": 0, \"BLUE\": 0}, \n",
    "             \"GREEN\": {\"RED\": 0, \"GREEN\": 0, \"BLUE\": 0}, \n",
    "             \"BLUE\": {\"RED\": 0, \"GREEN\": 0, \"BLUE\": 0}}  \n",
    "for t in trials:\n",
    "    confusion[t['ink_color']][t['response']] += 1  # increment the count for the specific ink color and response\n",
    "confusion"
   ]
  },
  {
   "cell_type": "markdown",
   "id": "89aa718d-939d-4b0b-a88e-a6c87eba5c40",
   "metadata": {
    "deletable": false,
    "editable": false,
    "nbgrader": {
     "cell_type": "markdown",
     "checksum": "3969d5024746b637a21d864b1c31b97a",
     "grade": false,
     "grade_id": "cell-da689452e7d997ef",
     "locked": true,
     "schema_version": 3,
     "solution": false,
     "task": false
    }
   },
   "source": [
    "### (d) List comprehension: get RTs of incongruent trials faster than 600 ms."
   ]
  },
  {
   "cell_type": "code",
   "execution_count": null,
   "id": "afdf9b46-a76b-4c06-9c66-2779256f2931",
   "metadata": {
    "deletable": false,
    "nbgrader": {
     "cell_type": "code",
     "checksum": "aaf003da9ec5fa80ee9cd41065556c1d",
     "grade": true,
     "grade_id": "cell-ce673db76d54bea4",
     "locked": false,
     "points": 0,
     "schema_version": 3,
     "solution": true,
     "task": false
    }
   },
   "outputs": [],
   "source": [
    "# YOUR CODE HERE\n",
    "incongruent_fast_rt = [rt for rt in rt_incongruent if rt < 600]\n",
    "print(incongruent_fast_rt)"
   ]
  },
  {
   "cell_type": "markdown",
   "id": "44176521-5472-410d-b482-de527e63d728",
   "metadata": {
    "deletable": false,
    "editable": false,
    "nbgrader": {
     "cell_type": "markdown",
     "checksum": "a38d24a16d6699daf032b86ae3868ba7",
     "grade": false,
     "grade_id": "cell-7957630f194837cb",
     "locked": true,
     "schema_version": 3,
     "solution": false,
     "task": false
    }
   },
   "source": [
    "## Exercise 4: File I/O and signal detection (d′)\n",
    "\n",
    "Context: In a simple yes/no detection task, participants respond whether a signal is present. We will read a CSV of trials, compute hit and false alarm rates per participant, and estimate d′ using the normal deviate. Use a small “log-linear” correction to avoid infinite z-values.\n",
    "\n",
    "Tasks:\n",
    "- Write a small CSV file to disk (for practice with file I/O).\n",
    "- Read the file and parse rows.\n",
    "- For each participant, compute counts (hits, misses, false alarms, correct rejections), then rates.\n",
    "- Compute d′ = Z(hit_rate) − Z(false_alarm_rate), using statistics.NormalDist().inv_cdf with 0.5/N corrections when rates are 0 or 1."
   ]
  },
  {
   "cell_type": "markdown",
   "id": "29aced3a-49e8-4496-9369-827c7e77b853",
   "metadata": {
    "deletable": false,
    "editable": false,
    "nbgrader": {
     "cell_type": "markdown",
     "checksum": "f233032c2544415e6a345f219ccad01d",
     "grade": false,
     "grade_id": "cell-8a3a50656911aaba",
     "locked": true,
     "schema_version": 3,
     "solution": false,
     "task": false
    }
   },
   "source": [
    "### (a) Create a small comma-separated values (CSV) file"
   ]
  },
  {
   "cell_type": "code",
   "execution_count": null,
   "id": "e8e422a1-5a37-476e-a03e-67f54c4217f6",
   "metadata": {
    "deletable": false,
    "editable": true,
    "nbgrader": {
     "cell_type": "code",
     "checksum": "fea8f4f336f4809b79861619c24d39d6",
     "grade": true,
     "grade_id": "cell-98b5e964b7e4c653",
     "locked": false,
     "points": 0,
     "schema_version": 3,
     "solution": true,
     "task": false
    },
    "slideshow": {
     "slide_type": ""
    },
    "tags": []
   },
   "outputs": [],
   "source": [
    "csv_text = \"\"\"participant,signal_present,response,rt_ms\n",
    "P01,1,1,520\n",
    "P01,1,0,640\n",
    "P01,0,0,580\n",
    "P01,0,1,610\n",
    "P02,1,1,500\n",
    "P02,1,1,530\n",
    "P02,0,0,600\n",
    "P02,0,0,590\n",
    "P03,1,0,700\n",
    "P03,1,0,680\n",
    "P03,0,1,650\n",
    "P03,0,1,640\n",
    "\"\"\"\n",
    "\n",
    "# - Write csv_text to a file named \"sdt_trials.csv\" in the current directory.\n",
    "# YOUR CODE HERE\n",
    "\n",
    "with open(\"sdt_trials.csv\", \"w\") as sdt:\n",
    "    sdt.write(csv_text)"
   ]
  },
  {
   "cell_type": "markdown",
   "id": "07ff6c65",
   "metadata": {},
   "source": [
    "### (b) Read and parse the CSV"
   ]
  },
  {
   "cell_type": "code",
   "execution_count": null,
   "id": "98e1c035",
   "metadata": {},
   "outputs": [
    {
     "name": "stdout",
     "output_type": "stream",
     "text": [
      "{'participant': 'P01', 'signal_present': '1', 'response': '1', 'rt_ms': '520'}\n",
      "{'participant': 'P01', 'signal_present': '1', 'response': '0', 'rt_ms': '640'}\n",
      "{'participant': 'P01', 'signal_present': '0', 'response': '0', 'rt_ms': '580'}\n",
      "{'participant': 'P01', 'signal_present': '0', 'response': '1', 'rt_ms': '610'}\n",
      "{'participant': 'P02', 'signal_present': '1', 'response': '1', 'rt_ms': '500'}\n",
      "{'participant': 'P02', 'signal_present': '1', 'response': '1', 'rt_ms': '530'}\n",
      "{'participant': 'P02', 'signal_present': '0', 'response': '0', 'rt_ms': '600'}\n",
      "{'participant': 'P02', 'signal_present': '0', 'response': '0', 'rt_ms': '590'}\n",
      "{'participant': 'P03', 'signal_present': '1', 'response': '0', 'rt_ms': '700'}\n",
      "{'participant': 'P03', 'signal_present': '1', 'response': '0', 'rt_ms': '680'}\n",
      "{'participant': 'P03', 'signal_present': '0', 'response': '1', 'rt_ms': '650'}\n",
      "{'participant': 'P03', 'signal_present': '0', 'response': '1', 'rt_ms': '640'}\n"
     ]
    }
   ],
   "source": [
    "# Read and parse the CSV\n",
    "import csv\n",
    "\n",
    "# - Read \"sdt_trials.csv\".\n",
    "# - Build a list of dicts with parsed ints for signal_present, response, rt_ms.\n",
    "# YOUR CODE HERE\n",
    "\n",
    "trial_ints = []\n",
    "with open(\"sdt_trials.csv\", \"r\") as sdt:\n",
    "    #content = sdt.read()\n",
    "#print(content)\n",
    "    reader = csv.DictReader(sdt)\n",
    "    for row in reader:\n",
    "        del row['participant']\n",
    "        trial_ints.append(row)\n",
    "        print(row)\n"
   ]
  },
  {
   "cell_type": "markdown",
   "id": "ad8afc35",
   "metadata": {},
   "source": [
    "### (c) Compute rates and d'"
   ]
  },
  {
   "cell_type": "code",
   "execution_count": null,
   "id": "931c9878",
   "metadata": {},
   "outputs": [
    {
     "name": "stdout",
     "output_type": "stream",
     "text": [
      " Over 4 trials, participant P01 achieved an adjusted hit rate of 2.25 and an adjusted false alarm rate of 2.25. This yields a size effect of d' =.\n",
      " Over 4 trials, participant P02 achieved an adjusted hit rate of 1.5 and an adjusted false alarm rate of 4.5. This yields a size effect of d' =.\n",
      " Over 4 trials, participant P03 achieved an adjusted hit rate of 4.5 and an adjusted false alarm rate of 1.5. This yields a size effect of d' =.\n"
     ]
    }
   ],
   "source": [
    "from collections import defaultdict\n",
    "from statistics import NormalDist\n",
    "\n",
    "# YOUR CODE HERE\n",
    "# - For each participant:\n",
    "#   * Count hits (signal_present==1 and response==1),\n",
    "#     misses (1 and 0), false alarms (0 and 1), correct rejections (0 and 0).\n",
    "#   * Compute hit_rate and fa_rate with log-linear correction:\n",
    "#       adjusted_rate = (count + 0.5) / (N + 1), where N is # signal (for hits) or # noise (for FAs).\n",
    "#   * Compute d' = Z(hit_rate) - Z(fa_rate).\n",
    "# - Print a small summary per participant.\n",
    "# YOUR CODE HERE\n",
    "\n",
    "p_counts = {}\n",
    "with open(\"sdt_trials.csv\", \"r\") as sdt:\n",
    "    reader = csv.DictReader(sdt)\n",
    "\n",
    "    # dynamically create participant-specific dictionaries and increase counter for each respective trial\n",
    "    for row in reader:\n",
    "        p = row['participant']\n",
    "        if p not in p_counts.keys():\n",
    "            p_counts[p] = {'counts': 1, 'hits': 0, 'misses': 0, 'fas': 0, 'cas': 0}\n",
    "        else:\n",
    "            p_counts[p]['counts'] += 1\n",
    "\n",
    "        # count hits, misses, false alarms and correct rejections\n",
    "        if row['signal_present'] == '1' and row['response'] == '1':\n",
    "            p_counts[p]['hits'] += 1\n",
    "        if row['signal_present'] == '1' and row['response'] == '0':\n",
    "            p_counts[p]['misses'] += 1\n",
    "        if row['signal_present'] == '0' and row['response'] == '1':\n",
    "            p_counts[p]['fas'] += 1\n",
    "        if row['signal_present'] == '0' and row['response'] == '0':\n",
    "            p_counts[p]['cas'] += 1\n",
    "\n",
    "        # compute hit_rate and fa_rate with log-linear correction\n",
    "        p_counts[p]['hit_rate'] = (p_counts[p]['counts'] + 0.5) / (p_counts[p]['hits'] + 1)\n",
    "        p_counts[p]['fa_rate'] = (p_counts[p]['counts'] + 0.5) / (p_counts[p]['fas'] + 1)  \n",
    "\n",
    "        # compute size effect\n",
    "        #if (p_counts[p]['hit_rate'] or p_counts[p]['fa_rate']) == 0 or 1:\n",
    "            #statistics.NormalDist().inv_cdf with 0.5/N corrections when rates are 0 or 1.\n",
    "\n",
    "# TODO: compute value of d' (above) and at to the end of summary\n",
    "for p in p_counts:\n",
    "    print(f\" Over {p_counts[p]['counts']} trials, participant {p} achieved an adjusted hit rate of {p_counts[p]['hit_rate']} and an adjusted false alarm rate of {p_counts[p]['fa_rate']}. This yields a size effect of d' =.\")\n",
    "\n",
    "\n",
    "\n",
    "        "
   ]
  }
 ],
 "metadata": {
  "kernelspec": {
   "display_name": "Python 3",
   "language": "python",
   "name": "python3"
  },
  "language_info": {
   "codemirror_mode": {
    "name": "ipython",
    "version": 3
   },
   "file_extension": ".py",
   "mimetype": "text/x-python",
   "name": "python",
   "nbconvert_exporter": "python",
   "pygments_lexer": "ipython3",
   "version": "3.13.7"
  }
 },
 "nbformat": 4,
 "nbformat_minor": 5
}
