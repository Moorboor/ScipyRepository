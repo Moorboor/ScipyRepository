{
 "cells": [
  {
   "cell_type": "markdown",
   "id": "d11c23bd-e931-4f64-967b-aca5d0753689",
   "metadata": {},
   "source": [
    "Scientific programming in Python (Winter 2025/26)"
   ]
  },
  {
   "cell_type": "markdown",
   "id": "4232e6ef-34f1-4d22-8d8c-e0fc227286d3",
   "metadata": {
    "deletable": false,
    "editable": false,
    "nbgrader": {
     "cell_type": "markdown",
     "checksum": "55231a916a2144d98a4aa5bc76f80582",
     "grade": false,
     "grade_id": "cell-7f66b2c508e333ae",
     "locked": true,
     "schema_version": 3,
     "solution": false,
     "task": false
    },
    "slideshow": {
     "slide_type": ""
    },
    "tags": []
   },
   "source": [
    "# Sheet 02: numpy\n",
    "\n",
    "## Introduction\n",
    "\n",
    "You can solve this sheet alone or in your group. Once done, upload your solution to your group's folder (under [`Groups`](https://studip.uni-osnabrueck.de/dispatch.php/course/files/index/6e9e531b6e84cadd07ac27fd03fb8493?cid=64105ba596df4fcc36ec266431aac621)).  Please do so before **October 28th, 2025**.  You should be able to explain your solution to your tutor in the feedback meeting.  You should solve at least 50% of the exercises on each sheet, to participate in the project work of this course, which will start after the new year break."
   ]
  },
  {
   "cell_type": "markdown",
   "id": "efe959a8-d581-48af-92f4-a63ae68a0e50",
   "metadata": {
    "deletable": false,
    "editable": false,
    "nbgrader": {
     "cell_type": "markdown",
     "checksum": "e4580a7b74e6945ebe42db755f220e48",
     "grade": false,
     "grade_id": "cell-7d735a32ff6a6f00",
     "locked": true,
     "schema_version": 3,
     "solution": false,
     "task": false
    }
   },
   "source": [
    "## Goal of this Sheet\n",
    "\n",
    "This sheet introduces core NumPy concepts: arrays, dtypes, views vs copies, broadcasting, vectorization, indexing/masking, and basic linear algebra. \n",
    "\n",
    "Setup: you need to have `numpy` installed for this sheet. Run the following cell to check:"
   ]
  },
  {
   "cell_type": "code",
   "execution_count": 1,
   "id": "670bddf2-e835-41c8-8d00-f76b913a968d",
   "metadata": {
    "editable": true,
    "slideshow": {
     "slide_type": ""
    },
    "tags": []
   },
   "outputs": [
    {
     "data": {
      "text/plain": [
       "'2.3.3'"
      ]
     },
     "execution_count": 1,
     "metadata": {},
     "output_type": "execute_result"
    }
   ],
   "source": [
    "import numpy as np #kommentar\n",
    "\n",
    "np.__version__"
   ]
  },
  {
   "cell_type": "markdown",
   "id": "bc65b057",
   "metadata": {
    "deletable": false,
    "editable": false,
    "nbgrader": {
     "cell_type": "markdown",
     "checksum": "89c515e14243213411be18aa74ec03ff",
     "grade": false,
     "grade_id": "cell-86740f154baa5c7b",
     "locked": true,
     "schema_version": 3,
     "solution": false,
     "task": false
    }
   },
   "source": [
    "## Exercise 1: Arrays, dtypes, shapes, and views vs copies\n",
    "\n",
    "Motivation: NumPy arrays are homogeneous, strided memory blocks with powerful operations. Understanding shape, dtype, and views is foundational for writing efficient scientific code."
   ]
  },
  {
   "cell_type": "markdown",
   "id": "8bdf4bcb",
   "metadata": {
    "deletable": false,
    "editable": false,
    "nbgrader": {
     "cell_type": "markdown",
     "checksum": "6c9b5a8d2224a04f917dc2088261709b",
     "grade": false,
     "grade_id": "cell-506b4430b8144ea3",
     "locked": true,
     "schema_version": 3,
     "solution": false,
     "task": false
    }
   },
   "source": [
    "### a) Create, reshape, and inspect\n",
    "\n",
    "- Create a 1D array a containing the integers 0..11 (inclusive).\n",
    "- Reshape it into a 3x4 array A and then into a 4x3 array B.\n",
    "- Report shapes, dtype, itemsize, and total nbytes for A and B."
   ]
  },
  {
   "cell_type": "code",
   "execution_count": 2,
   "id": "428826f0",
   "metadata": {
    "deletable": false,
    "nbgrader": {
     "cell_type": "code",
     "checksum": "069cbbe07ecf50f59f695164286da40b",
     "grade": true,
     "grade_id": "cell-b875889d84a012b7",
     "locked": false,
     "points": 0,
     "schema_version": 3,
     "solution": true,
     "task": false
    }
   },
   "outputs": [
    {
     "name": "stdout",
     "output_type": "stream",
     "text": [
      "A: (3, 4) int64 8 96\n",
      "B: (4, 3) int64 8 96\n"
     ]
    }
   ],
   "source": [
    "import numpy as np\n",
    "\n",
    "a = np.arange(12)\n",
    "A = a.reshape(3, 4)\n",
    "B = a.reshape(4, 3)\n",
    "print(\"A:\", A.shape, A.dtype, A.itemsize, A.nbytes)\n",
    "print(\"B:\", B.shape, B.dtype, B.itemsize, B.nbytes)\n",
    "\n",
    "assert A.shape == (3, 4), \"A must be 3x4\"\n",
    "assert B.shape == (4, 3), \"B must be 4x3\"\n",
    "assert A.size == 12 and B.size == 12, \"A and B should contain 12 elements\""
   ]
  },
  {
   "cell_type": "markdown",
   "id": "c662e38d",
   "metadata": {
    "deletable": false,
    "editable": false,
    "nbgrader": {
     "cell_type": "markdown",
     "checksum": "95ff72a573eda4d3400004e0b85afc02",
     "grade": false,
     "grade_id": "cell-650aa44eb28043cf",
     "locked": true,
     "schema_version": 3,
     "solution": false,
     "task": false
    }
   },
   "source": [
    "### b) Slicing and views\n",
    "\n",
    "- Take the last two columns of A and assign to C using slicing (no copy).\n",
    "- Modify C in-place (e.g., add 100) and verify that A changed accordingly."
   ]
  },
  {
   "cell_type": "code",
   "execution_count": 3,
   "id": "f0229234",
   "metadata": {
    "deletable": false,
    "nbgrader": {
     "cell_type": "code",
     "checksum": "45008f7d472a6ce61d8b643bc57ce3d0",
     "grade": true,
     "grade_id": "cell-1924e3ccd8d3926d",
     "locked": false,
     "points": 0,
     "schema_version": 3,
     "solution": true,
     "task": false
    }
   },
   "outputs": [
    {
     "name": "stdout",
     "output_type": "stream",
     "text": [
      "A after modifying C:\n",
      " [[  0   1 102 103]\n",
      " [  4   5 106 107]\n",
      " [  8   9 110 111]]\n"
     ]
    }
   ],
   "source": [
    "C = A[:, 2:]\n",
    "C += 100\n",
    "print(\"A after modifying C:\\n\", A)\n",
    "\n",
    "assert np.all(A[:, 2:] >= 100), \"Last two columns of A should have been increased by at least 100\"\n",
    "assert C.base is A or getattr(C, 'base', None) is not None, \"C should be a view, not a copy\""
   ]
  },
  {
   "cell_type": "markdown",
   "id": "37ce9378-26c7-4396-affe-c4eeb3ddf9f7",
   "metadata": {},
   "source": [
    "A changed because slices of an array are always views, so you just \"view\" the same chunk of memory from a different perspective. This saves a lot of memory, but it means also that the original array will be changed if you change the viewed slice as we did with C."
   ]
  },
  {
   "cell_type": "markdown",
   "id": "cd6b0b6c",
   "metadata": {
    "deletable": false,
    "editable": false,
    "nbgrader": {
     "cell_type": "markdown",
     "checksum": "cdffc0aba2acd4bae93b1047328fad34",
     "grade": false,
     "grade_id": "cell-eef7b049d0bdec6d",
     "locked": true,
     "schema_version": 3,
     "solution": false,
     "task": false
    }
   },
   "source": [
    "### c) ravel vs flatten\n",
    "\n",
    "- Produce R = A.ravel() and F = A.flatten(). Modify R[0] and F[1].\n",
    "- Check which changes reflect back in A and explain briefly."
   ]
  },
  {
   "cell_type": "code",
   "execution_count": 7,
   "id": "31b1a7f1",
   "metadata": {
    "deletable": false,
    "nbgrader": {
     "cell_type": "code",
     "checksum": "112449a946439ba18f59231205c053c1",
     "grade": true,
     "grade_id": "cell-a1ea36f470f8058f",
     "locked": false,
     "points": 0,
     "schema_version": 3,
     "solution": true,
     "task": false
    }
   },
   "outputs": [
    {
     "name": "stdout",
     "output_type": "stream",
     "text": [
      "A after modifications:\n",
      " [[-999    1  202  203]\n",
      " [   4    5  206  207]\n",
      " [   8    9  210  211]]\n"
     ]
    }
   ],
   "source": [
    "R = A.ravel()\n",
    "F = A.flatten()\n",
    "R[0] = -999\n",
    "F[1] = -888\n",
    "print(\"A after modifications:\\n\", A)\n",
    "\n",
    "assert A.ravel()[0] == -999, \"Modifying R should reflect in A if R is a view\"\n",
    "assert F.base is None, \"F should be a copy (flatten)\""
   ]
  },
  {
   "cell_type": "markdown",
   "id": "b6514585-1d29-4cc8-b574-491248814d2d",
   "metadata": {},
   "source": [
    "`flatten` always returns a copy, meaning it occupies a different chunk of memory than the array it operates one and any modifications done with this are not reflected by the original array. In contrast, `ravel` returns a contiguous view of the original array whenever possible, so any modifications of R should be reflected by A. "
   ]
  },
  {
   "cell_type": "markdown",
   "id": "bbd61bf0",
   "metadata": {
    "deletable": false,
    "editable": false,
    "nbgrader": {
     "cell_type": "markdown",
     "checksum": "640215f1ce1e59e24f440174eb4d1fd5",
     "grade": false,
     "grade_id": "cell-a60e99ea3ce5e41c",
     "locked": true,
     "schema_version": 3,
     "solution": false,
     "task": false
    }
   },
   "source": [
    "### d) Write a function that returns a centered block view\n",
    "\n",
    "Implement take_center_block(a, block_shape) that returns a view into the center of a 2D array a."
   ]
  },
  {
   "cell_type": "code",
   "execution_count": 20,
   "id": "9129b907",
   "metadata": {
    "deletable": false,
    "editable": true,
    "nbgrader": {
     "cell_type": "code",
     "checksum": "73ae46e167e1da488405b70399015ed9",
     "grade": true,
     "grade_id": "cell-838d4ab075f7425f",
     "locked": false,
     "points": 0,
     "schema_version": 3,
     "solution": true,
     "task": false
    },
    "slideshow": {
     "slide_type": ""
    }
   },
   "outputs": [],
   "source": [
    "def take_center_block(a: np.ndarray, block_shape: tuple[int, int]) -> np.ndarray:\n",
    "    \"\"\"\n",
    "    Return a view of the centered block of shape block_shape from 2D array a.\n",
    "    \"\"\"\n",
    "    center_row_range = int((a.shape[0] - block_shape[0]) / 2)  # calculate how many rows have to be \"cut off\" from each side as the halved difference between the number of rows in the original array and the desired block shape \n",
    "    center_column_range = int((a.shape[1] - block_shape[1]) / 2)  # do the same for the columns\n",
    "    center_block_a = a[center_row_range:-(center_row_range), center_column_range:-(center_column_range)]  # take out the center block with the desired dimensions\n",
    "    return center_block_a\n",
    "    # YOUR CODE HERE\n",
    "    \n",
    "\n",
    "# BEGIN TESTS\n",
    "T = np.arange(7*9).reshape(7, 9)\n",
    "blk = take_center_block(T, (3, 5))\n",
    "assert blk.shape == (3, 5), \"Block has wrong shape\"\n",
    "blk[:] = -1\n",
    "assert np.all(T[2:5, 2:7] == -1), \"Function should return a view into the center block\"\n",
    "X = np.arange(10*10).reshape(10, 10)\n",
    "b = take_center_block(X, (4, 6))\n",
    "assert np.shares_memory(b, X), \"Must return a view, not a copy\"\n",
    "# END TESTS"
   ]
  },
  {
   "cell_type": "markdown",
   "id": "5aa36958-bddd-426e-a55a-ade1b302c54e",
   "metadata": {
    "deletable": false,
    "editable": false,
    "nbgrader": {
     "cell_type": "markdown",
     "checksum": "5f5a082b33a6b26d938d4bd38a8df374",
     "grade": false,
     "grade_id": "cell-31f102c908243fb1",
     "locked": true,
     "schema_version": 3,
     "solution": false,
     "task": false
    }
   },
   "source": [
    "## Exercise 2: Broadcasting and vectorization\n",
    "\n",
    "Vectorization and broadcasting are core to efficient NumPy. Replace Python loops with array operations whenever possible."
   ]
  },
  {
   "cell_type": "markdown",
   "id": "1dfc14d3-2094-4bc2-baa9-b006dd66057c",
   "metadata": {
    "deletable": false,
    "editable": false,
    "nbgrader": {
     "cell_type": "markdown",
     "checksum": "663a4f53b08a6e15e3ca2faf9f1f5097",
     "grade": false,
     "grade_id": "cell-17ce942a0c416797",
     "locked": true,
     "schema_version": 3,
     "solution": false,
     "task": false
    }
   },
   "source": [
    "### a) Column-wise z-score normalization with broadcasting.\n",
    "\n",
    "Handle zero variance via eps."
   ]
  },
  {
   "cell_type": "code",
   "execution_count": 15,
   "id": "f65ba1b1-b30e-47e7-9c5c-f3880fa8afb8",
   "metadata": {
    "deletable": false,
    "editable": true,
    "nbgrader": {
     "cell_type": "code",
     "checksum": "bf14fc362e1083297919d7659f4b3913",
     "grade": true,
     "grade_id": "cell-6cad0349dc75459d",
     "locked": false,
     "points": 0,
     "schema_version": 3,
     "solution": true,
     "task": false
    },
    "slideshow": {
     "slide_type": ""
    },
    "tags": []
   },
   "outputs": [
    {
     "ename": "AttributeError",
     "evalue": "'NoneType' object has no attribute 'mean'",
     "output_type": "error",
     "traceback": [
      "\u001b[31m---------------------------------------------------------------------------\u001b[39m",
      "\u001b[31mAttributeError\u001b[39m                            Traceback (most recent call last)",
      "\u001b[36mCell\u001b[39m\u001b[36m \u001b[39m\u001b[32mIn[15]\u001b[39m\u001b[32m, line 15\u001b[39m\n\u001b[32m     13\u001b[39m X = rng.normal(size=(\u001b[32m1000\u001b[39m, \u001b[32m3\u001b[39m))\n\u001b[32m     14\u001b[39m Z = zscore(X, axis=\u001b[32m0\u001b[39m)\n\u001b[32m---> \u001b[39m\u001b[32m15\u001b[39m \u001b[38;5;28;01massert\u001b[39;00m np.allclose(\u001b[43mZ\u001b[49m\u001b[43m.\u001b[49m\u001b[43mmean\u001b[49m(axis=\u001b[32m0\u001b[39m), \u001b[32m0\u001b[39m, atol=\u001b[32m5e-2\u001b[39m)\n\u001b[32m     16\u001b[39m \u001b[38;5;28;01massert\u001b[39;00m np.allclose(Z.std(axis=\u001b[32m0\u001b[39m), \u001b[32m1\u001b[39m, atol=\u001b[32m5e-2\u001b[39m)\n\u001b[32m     18\u001b[39m Xc = np.ones((\u001b[32m10\u001b[39m, \u001b[32m5\u001b[39m)) * \u001b[32m7.5\u001b[39m\n",
      "\u001b[31mAttributeError\u001b[39m: 'NoneType' object has no attribute 'mean'"
     ]
    }
   ],
   "source": [
    "import numpy as np\n",
    "\n",
    "# Consistent RNG\n",
    "rng = np.random.default_rng(42)\n",
    "\n",
    "def zscore(X: np.ndarray, axis=0, eps=1e-12) -> np.ndarray:\n",
    "    \"\"\"\n",
    "    Return z-scored array along axis. Zero-variance handled by eps.\n",
    "    \"\"\"\n",
    "    mean = np.mean(X, axis)  # calculate the mean of each column\n",
    "    std_dev = np.std(X, axis)  # calculate the standard deviation of each column\n",
    "    \n",
    "    if std_dev.any() < eps:  # prevent dividing by 0\n",
    "        std_dev += eps\n",
    "        \n",
    "    z_scores = (X - mean) / std_dev  # column-wise z-score normalization \n",
    "\n",
    "    return z_scores\n",
    "\n",
    "# BEGIN TESTS\n",
    "X = rng.normal(size=(1000, 3))\n",
    "Z = zscore(X, axis=0)\n",
    "assert np.allclose(Z.mean(axis=0), 0, atol=5e-2)\n",
    "assert np.allclose(Z.std(axis=0), 1, atol=5e-2)\n",
    "\n",
    "Xc = np.ones((10, 5)) * 7.5\n",
    "Zh = zscore(Xc, axis=0)\n",
    "assert np.allclose(Zh, 0, atol=1e-8), \"Constant columns should become ~0 after z-scoring with eps\"\n",
    "# END TESTS"
   ]
  },
  {
   "cell_type": "markdown",
   "id": "6380c9d5-1cca-4db6-95ea-470c6761b4f6",
   "metadata": {
    "deletable": false,
    "editable": false,
    "nbgrader": {
     "cell_type": "markdown",
     "checksum": "18c9658f65303b69078550149d30a792",
     "grade": false,
     "grade_id": "cell-82fd950e8546cec7",
     "locked": true,
     "schema_version": 3,
     "solution": false,
     "task": false
    },
    "slideshow": {
     "slide_type": ""
    },
    "tags": []
   },
   "source": [
    "### b) Pairwise Euclidean distance matrix using broadcasting.\n",
    "\n",
    "Assume two sets of $d$-dimensional vectors, $A$ containing $N$ vectors and $B$ containing $M$ vectors: compute an (N, M) matrix containing the pairwise Euclidean distances between pairs of vectors from $A$ and $B$."
   ]
  },
  {
   "cell_type": "code",
   "execution_count": 12,
   "id": "b4d09854-4cf3-44cb-9aa6-b853712a6fa3",
   "metadata": {
    "deletable": false,
    "nbgrader": {
     "cell_type": "code",
     "checksum": "bc2f0486becf1f29a84bcf1a90f9ce1c",
     "grade": true,
     "grade_id": "cell-e36a848a3b9ee689",
     "locked": false,
     "points": 0,
     "schema_version": 3,
     "solution": true,
     "task": false
    }
   },
   "outputs": [],
   "source": [
    "import numpy as np\n",
    "def pairwise_distances(A: np.ndarray, B: np.ndarray) -> np.ndarray:\n",
    "    \"\"\"\n",
    "    Return an (N, M) matrix of Euclidean distances between rows of A and B.\n",
    "    \"\"\"\n",
    "\n",
    "    \n",
    "    # YOUR CODE HERE\n",
    "    diff = B-A[:, np.newaxis, :]\n",
    "    D = np.sqrt(np.sum(diff**2, axis=-1))\n",
    "    return D\n",
    "\n",
    "# BEGIN TESTS\n",
    "A_sm = np.array([[0., 0.], [1., 0.], [0., 1.]])\n",
    "B_sm = np.array([[0., 0.], [1., 1.]])\n",
    "D = pairwise_distances(A_sm, B_sm)\n",
    "expected = np.array([[0.0, np.sqrt(2)], [1.0, 1.0], [1.0, 1.0]])\n",
    "assert np.allclose(D, expected), \"Distances incorrect for the small example\"\n",
    "# END TESTS"
   ]
  },
  {
   "cell_type": "code",
   "execution_count": 86,
   "id": "38016b79-948a-43e7-852f-4420532c7981",
   "metadata": {},
   "outputs": [
    {
     "ename": "ValueError",
     "evalue": "operands could not be broadcast together with shapes (3,2) (2,2) ",
     "output_type": "error",
     "traceback": [
      "\u001b[31m---------------------------------------------------------------------------\u001b[39m",
      "\u001b[31mValueError\u001b[39m                                Traceback (most recent call last)",
      "\u001b[36mCell\u001b[39m\u001b[36m \u001b[39m\u001b[32mIn[86]\u001b[39m\u001b[32m, line 9\u001b[39m\n\u001b[32m      3\u001b[39m B_sm = np.array([[\u001b[32m0.\u001b[39m, \u001b[32m0.\u001b[39m], [\u001b[32m1.\u001b[39m, \u001b[32m1.\u001b[39m]]).T\n\u001b[32m      7\u001b[39m \u001b[38;5;28mtype\u001b[39m(A_sm[\u001b[32m1\u001b[39m])\n\u001b[32m----> \u001b[39m\u001b[32m9\u001b[39m distances = sqrt((\u001b[43mA_sm\u001b[49m\u001b[43m-\u001b[49m\u001b[43mB_sm\u001b[49m)**\u001b[32m2\u001b[39m)\n",
      "\u001b[31mValueError\u001b[39m: operands could not be broadcast together with shapes (3,2) (2,2) "
     ]
    }
   ],
   "source": [
    "from math import sqrt \n",
    "A_sm = np.array([[0., 0.], [1., 0.], [0., 1.]])\n",
    "B_sm = np.array([[0., 0.], [1., 1.]])\n",
    "\n",
    "\n",
    "type(A_sm[1])\n",
    "\n",
    "#distances = sqrt((A_sm-B_sm)**2)\n",
    "\n"
   ]
  },
  {
   "cell_type": "markdown",
   "id": "e32ac309-d0ed-474b-ab2a-ee76034c83fd",
   "metadata": {
    "deletable": false,
    "editable": false,
    "nbgrader": {
     "cell_type": "markdown",
     "checksum": "6d37fbe6848e249ae47cda9f2b22efcd",
     "grade": false,
     "grade_id": "cell-4169d507cd046a90",
     "locked": true,
     "schema_version": 3,
     "solution": false,
     "task": false
    }
   },
   "source": [
    "### c) Performance comparison\n",
    "\n",
    "Implement a simple loop baseline and verify equality with vectorized version."
   ]
  },
  {
   "cell_type": "code",
   "execution_count": 16,
   "id": "c9f8c022-63d1-42df-89bd-0755ad73d253",
   "metadata": {
    "deletable": false,
    "nbgrader": {
     "cell_type": "code",
     "checksum": "1b41923c723fd53586c2a549b6d51661",
     "grade": true,
     "grade_id": "cell-289c7f3d235c1a29",
     "locked": false,
     "points": 0,
     "schema_version": 3,
     "solution": true,
     "task": false
    }
   },
   "outputs": [
    {
     "name": "stdout",
     "output_type": "stream",
     "text": [
      "244 μs ± 10.1 μs per loop (mean ± std. dev. of 7 runs, 1,000 loops each)\n",
      "57 ms ± 814 μs per loop (mean ± std. dev. of 7 runs, 10 loops each)\n"
     ]
    }
   ],
   "source": [
    "def pairwise_distances_loop(A, B):\n",
    "    \"\"\"\n",
    "    Return an (N, M) matrix of Euclidean distances between rows of A and B, computed using loops.\n",
    "    \"\"\"\n",
    "    # YOUR CODE HERE\n",
    "    for i in range(A.shape[0]):\n",
    "        for j in range(B.shape[0]):\n",
    "            if i == 0 and j == 0:\n",
    "                D = np.empty((A.shape[0], B.shape[0]))\n",
    "            D[i, j] = np.sqrt(np.sum((A[i] - B[j])**2))\n",
    "    return D\n",
    "# BEGIN TESTS\n",
    "A_big = rng.normal(size=(80, 3))\n",
    "B_big = rng.normal(size=(75, 3))\n",
    "#Dv = pairwise_distances(A_big, B_big)\n",
    "Dl = pairwise_distances_loop(A_big, B_big)\n",
    "#assert np.allclose(Dv, Dl, atol=1e-10), \"Vectorized and loop results must match\"\n",
    "# END TESTS\n",
    "\n",
    "#%timeit pairwise_distances(A_big, B_big)\n",
    "#%timeit pairwise_distances_loop(A_big, B_big)"
   ]
  },
  {
   "cell_type": "code",
   "execution_count": 98,
   "id": "581efb6b-0230-4af1-b7b9-b3252684a276",
   "metadata": {},
   "outputs": [
    {
     "ename": "TypeError",
     "evalue": "only length-1 arrays can be converted to Python scalars",
     "output_type": "error",
     "traceback": [
      "\u001b[31m---------------------------------------------------------------------------\u001b[39m",
      "\u001b[31mTypeError\u001b[39m                                 Traceback (most recent call last)",
      "\u001b[36mCell\u001b[39m\u001b[36m \u001b[39m\u001b[32mIn[98]\u001b[39m\u001b[32m, line 8\u001b[39m\n\u001b[32m      6\u001b[39m \u001b[38;5;28;01mfor\u001b[39;00m i \u001b[38;5;129;01min\u001b[39;00m A_big:\n\u001b[32m      7\u001b[39m     \u001b[38;5;28;01mfor\u001b[39;00m j \u001b[38;5;129;01min\u001b[39;00m B_big:\n\u001b[32m----> \u001b[39m\u001b[32m8\u001b[39m         distances = \u001b[43msqrt\u001b[49m\u001b[43m(\u001b[49m\u001b[43m(\u001b[49m\u001b[43mi\u001b[49m\u001b[43m-\u001b[49m\u001b[43mj\u001b[49m\u001b[43m)\u001b[49m\u001b[43m*\u001b[49m\u001b[43m*\u001b[49m\u001b[32;43m2\u001b[39;49m\u001b[43m)\u001b[49m\n\u001b[32m     10\u001b[39m distances\n",
      "\u001b[31mTypeError\u001b[39m: only length-1 arrays can be converted to Python scalars"
     ]
    }
   ],
   "source": [
    "from math import sqrt\n",
    "A_big = rng.normal(size=(80, 3))\n",
    "B_big = rng.normal(size=(75, 3))\n",
    "\n",
    "distances = np.zeros((A_big.shape[0], B_big.shape[0]))\n",
    "for i in A_big:\n",
    "    for j in B_big:\n",
    "        distances = sqrt((i-j)**2)\n",
    "\n",
    "distances\n"
   ]
  },
  {
   "cell_type": "markdown",
   "id": "22d8f149-3725-4fed-9415-5a5822c246e8",
   "metadata": {
    "deletable": false,
    "editable": false,
    "nbgrader": {
     "cell_type": "markdown",
     "checksum": "2353ce722d63f9e1892a0e944827b929",
     "grade": false,
     "grade_id": "cell-52c3edbfddc3e500",
     "locked": true,
     "schema_version": 3,
     "solution": false,
     "task": false
    }
   },
   "source": [
    "## Exercise 3: Indexing, masking, and data cleaning\n",
    "\n",
    "Real-world data contains outliers and missing values. Boolean masks and fancy indexing help you filter and clean efficiently."
   ]
  },
  {
   "cell_type": "markdown",
   "id": "1d4a926b-a1c3-45dc-90ac-8c3b539679a9",
   "metadata": {
    "deletable": false,
    "editable": false,
    "nbgrader": {
     "cell_type": "markdown",
     "checksum": "3bdb26f70334cbc19252a6685480c524",
     "grade": false,
     "grade_id": "cell-b23a5295b92c8cc6",
     "locked": true,
     "schema_version": 3,
     "solution": false,
     "task": false
    }
   },
   "source": [
    "### a) Simulate data with outliers\n",
    "\n",
    "Create an array of shape (T=1000 datapoints, S=5 sensors), containing simulated sensor readings.  Sensor readings are normaly distributed, with variance 1 and with different means per sensor. Inject ~1% spikes by adding values between +10 and +20 at random positions."
   ]
  },
  {
   "cell_type": "code",
   "execution_count": null,
   "id": "26702264-d819-4513-94d6-c2c4dbe30c5e",
   "metadata": {
    "deletable": false,
    "editable": true,
    "nbgrader": {
     "cell_type": "code",
     "checksum": "918d4574671cfc5151d2b6e20032c4f4",
     "grade": true,
     "grade_id": "cell-9cea2196c0e97fa4",
     "locked": false,
     "points": 0,
     "schema_version": 3,
     "solution": true,
     "task": false
    },
    "slideshow": {
     "slide_type": ""
    },
    "tags": []
   },
   "outputs": [],
   "source": [
    "import numpy as np\n",
    "\n",
    "# Consistent RNG\n",
    "rng = np.random.default_rng(42)\n",
    "\n",
    "T, S = 1000, 5\n",
    "# means = ...\n",
    "# readings = ...\n",
    "\n",
    "# YOUR CODE HERE\n",
    "\n",
    "# BEGIN TESTS\n",
    "assert readings.shape == (1000, 5)\n",
    "assert np.any(readings - base > 9.9), \"Outliers not injected properly\"\n",
    "# We should see a noticeable right-skew in max vs median\n",
    "assert np.nanmax(readings) - np.nanmedian(readings) > 8.0\n",
    "# END TESTS"
   ]
  },
  {
   "cell_type": "markdown",
   "id": "e857357d-05a8-45bc-97d3-0775235ee6d8",
   "metadata": {
    "deletable": false,
    "editable": false,
    "nbgrader": {
     "cell_type": "markdown",
     "checksum": "83efdef754b569dea4fe8962ff95d95f",
     "grade": false,
     "grade_id": "cell-9d7a9110eb76ea1a",
     "locked": true,
     "schema_version": 3,
     "solution": false,
     "task": false
    },
    "slideshow": {
     "slide_type": ""
    },
    "tags": []
   },
   "source": [
    "### 3b) Detect outliers via robust z-score using MAD\n",
    "\n",
    "For each sensor (column), compute median and [Median Absolute Deviation](https://en.wikipedia.org/wiki/Median_absolute_deviation) (MAD, that is the median of the absolute deviations from the median), and then the *robust z-score* (rsz, sometimes also called \"modified z-score\")\n",
    "\n",
    "$$rzs = 0.6745\\cdot\\frac{x - \\operatorname{median}}{\\operatorname{MAD}}$$\n",
    "\n",
    "Flag $|rzs| > 3.5$ as outliers. Use eps to avoid division by zero."
   ]
  },
  {
   "cell_type": "code",
   "execution_count": null,
   "id": "09dcf610-da0e-4780-9d42-e51842d9ef34",
   "metadata": {
    "deletable": false,
    "editable": true,
    "nbgrader": {
     "cell_type": "code",
     "checksum": "cb5029561529d24bd7acbf0fedc0ea1a",
     "grade": true,
     "grade_id": "cell-d7e8543f72798d15",
     "locked": false,
     "points": 0,
     "schema_version": 3,
     "solution": true,
     "task": false
    },
    "slideshow": {
     "slide_type": ""
    },
    "tags": []
   },
   "outputs": [],
   "source": [
    "eps = 1e-12\n",
    "# eps = ...\n",
    "# median = ...\n",
    "# mad = ...\n",
    "# rzs = ...\n",
    "# outliers = ...\n",
    "\n",
    "# YOUR CODE HERE\n",
    "\n",
    "# BEGIN TESTS\n",
    "assert outliers.shape == readings.shape\n",
    "assert outliers.sum() > 0, \"Expect some outliers\"\n",
    "# END TESTS\n",
    "\n",
    "# END QUESTION"
   ]
  },
  {
   "cell_type": "markdown",
   "id": "c1c3416d-5fa9-4be6-b979-1cd9f202eab7",
   "metadata": {
    "deletable": false,
    "editable": false,
    "nbgrader": {
     "cell_type": "markdown",
     "checksum": "1ee6f35e871c5c13a8228c47d76d876c",
     "grade": false,
     "grade_id": "cell-464b9d4bb8cd6d50",
     "locked": true,
     "schema_version": 3,
     "solution": false,
     "task": false
    },
    "slideshow": {
     "slide_type": ""
    },
    "tags": []
   },
   "source": [
    "### c) Replace outliers with NaN and compute per-sensor stats\n",
    "\n",
    "Create a new array callede `cleaned` containing the original readings, with outliers replaced by NaN.cleaned[outliers] = np.nan.\n",
    "\n",
    "Then compute per-sensor mean and std ignoring NaNs.\n",
    "\n",
    "Hint: have a look at the documentation for [numpy.nanmean](https://numpy.org/doc/stable/reference/generated/numpy.nanmean.html)."
   ]
  },
  {
   "cell_type": "code",
   "execution_count": null,
   "id": "a4bb5a17-b0cc-4ed1-b231-d82bc95977a5",
   "metadata": {
    "deletable": false,
    "nbgrader": {
     "cell_type": "code",
     "checksum": "040a05802186e21fa6721cff0e3b0859",
     "grade": true,
     "grade_id": "cell-63045b2c0d98ead2",
     "locked": false,
     "points": 0,
     "schema_version": 3,
     "solution": true,
     "task": false
    }
   },
   "outputs": [],
   "source": [
    "# cleaned = ...\n",
    "# mean_per_sensor = ...\n",
    "# std_per_sensor = ...\n",
    "\n",
    "# YOUR CODE HERE\n",
    "\n",
    "# BEGIN TESTS\n",
    "assert cleaned.shape == readings.shape\n",
    "assert np.all(np.isfinite(mean_per_sensor)), \"Means should be finite\"\n",
    "assert mean_per_sensor.shape == (S,)\n",
    "# Removing outliers should reduce max\n",
    "assert np.nanmax(cleaned) <= np.nanmax(readings)\n",
    "# END TESTS"
   ]
  },
  {
   "cell_type": "markdown",
   "id": "c18b1234-b4f6-4a95-8c03-23877020ea9a",
   "metadata": {
    "deletable": false,
    "editable": false,
    "nbgrader": {
     "cell_type": "markdown",
     "checksum": "bce56c24b9ce6eeaea818dac1ca4de31",
     "grade": false,
     "grade_id": "cell-7496e61a52dbb5db",
     "locked": true,
     "schema_version": 3,
     "solution": false,
     "task": false
    }
   },
   "source": [
    "### d) Impute missing values with per-sensor median\n",
    "\n",
    "Compute per-sensor medians ignoring NaNs and fill NaNs in cleaned."
   ]
  },
  {
   "cell_type": "code",
   "execution_count": null,
   "id": "72969f8b-2d6f-4993-a528-6b9d193bc6d1",
   "metadata": {
    "deletable": false,
    "nbgrader": {
     "cell_type": "code",
     "checksum": "c222b9e7c971b159bc6f1462d8c9c13e",
     "grade": true,
     "grade_id": "cell-319568b4960a3585",
     "locked": false,
     "points": 0,
     "schema_version": 3,
     "solution": true,
     "task": false
    }
   },
   "outputs": [],
   "source": [
    "# sensor_medians = ...\n",
    "# imputed = ...\n",
    "\n",
    "# YOUR CODE HERE\n",
    "\n",
    "# BEGIN TESTS\n",
    "assert not np.isnan(imputed).any(), \"No NaNs should remain after imputation\"\n",
    "assert imputed.shape == (T, S)\n",
    "# Imputed values in outlier positions should be close to column medians\n",
    "bad = np.where(outliers)\n",
    "assert np.allclose(imputed[bad], sensor_medians[0, bad[1]], atol=1e-12)\n",
    "# END TESTS"
   ]
  }
 ],
 "metadata": {
  "jupytext": {
   "formats": "ipynb,Rmd"
  },
  "kernelspec": {
   "display_name": "Python 3 (ipykernel)",
   "language": "python",
   "name": "python3"
  },
  "language_info": {
   "codemirror_mode": {
    "name": "ipython",
    "version": 3
   },
   "file_extension": ".py",
   "mimetype": "text/x-python",
   "name": "python",
   "nbconvert_exporter": "python",
   "pygments_lexer": "ipython3",
   "version": "3.13.7"
  }
 },
 "nbformat": 4,
 "nbformat_minor": 5
}
